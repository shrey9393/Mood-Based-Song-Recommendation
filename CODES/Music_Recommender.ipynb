{
  "cells": [
    {
      "cell_type": "code",
      "execution_count": 25,
      "id": "1b5e8d63",
      "metadata": {
        "id": "1b5e8d63"
      },
      "outputs": [],
      "source": [
        "import pandas as pd\n",
        "import numpy as np\n",
        "import re \n",
        "import sys\n",
        "import cv2\n",
        "import matplotlib.pyplot as plt\n",
        "import spotipy.util as util\n",
        "\n",
        "from sklearn.feature_extraction.text import TfidfVectorizer\n",
        "from sklearn.metrics.pairwise import cosine_similarity\n",
        "from sklearn.preprocessing import MinMaxScaler\n",
        "from skimage import io\n",
        "\n",
        "import spotipy\n",
        "from spotipy.oauth2 import SpotifyClientCredentials\n",
        "from spotipy.oauth2 import SpotifyOAuth\n",
        "\n",
        "import warnings\n",
        "warnings.filterwarnings(\"ignore\")"
      ]
    },
    {
      "cell_type": "code",
      "execution_count": 26,
      "id": "7775e106",
      "metadata": {
        "id": "7775e106"
      },
      "outputs": [],
      "source": [
        "%matplotlib inline"
      ]
    },
    {
      "cell_type": "code",
      "execution_count": 27,
      "id": "2a3af247",
      "metadata": {
        "id": "2a3af247"
      },
      "outputs": [],
      "source": [
        "#another useful command to make data exploration easier\n",
        "# NOTE: if you are using a massive dataset, this could slow down your code. \n",
        "pd.set_option('display.max_columns', None)\n",
        "pd.set_option(\"display.max_rows\", None)"
      ]
    },
    {
      "cell_type": "code",
      "execution_count": 28,
      "id": "96e2dea9",
      "metadata": {
        "id": "96e2dea9"
      },
      "outputs": [],
      "source": [
        "df = pd.read_csv('C:\\\\Users\\\\shrey\\\\OneDrive\\\\Desktop\\\\project\\\\Datasets\\\\kaggleMusicMoodFinal.csv')"
      ]
    },
    {
      "cell_type": "code",
      "execution_count": 29,
      "id": "d8118d63",
      "metadata": {
        "id": "d8118d63"
      },
      "outputs": [],
      "source": [
        "spotify_df = df.copy()"
      ]
    },
    {
      "cell_type": "code",
      "execution_count": 30,
      "id": "2a32ed35",
      "metadata": {
        "colab": {
          "base_uri": "https://localhost:8080/"
        },
        "id": "2a32ed35",
        "outputId": "9601fdfc-c15b-43b5-9ece-654c5d4b6fe0"
      },
      "outputs": [
        {
          "data": {
            "text/plain": [
              "(156410, 27)"
            ]
          },
          "execution_count": 30,
          "metadata": {},
          "output_type": "execute_result"
        }
      ],
      "source": [
        "spotify_df.shape"
      ]
    },
    {
      "cell_type": "code",
      "execution_count": 31,
      "id": "81dc56cf",
      "metadata": {
        "id": "81dc56cf"
      },
      "outputs": [],
      "source": [
        "float_cols = spotify_df.dtypes[spotify_df.dtypes == 'float64'].index.values"
      ]
    },
    {
      "cell_type": "code",
      "execution_count": 32,
      "id": "d4ae0b00",
      "metadata": {
        "id": "d4ae0b00"
      },
      "outputs": [],
      "source": [
        "ohe_cols = 'popularity'"
      ]
    },
    {
      "cell_type": "code",
      "execution_count": 33,
      "id": "84e56425",
      "metadata": {
        "id": "84e56425"
      },
      "outputs": [],
      "source": [
        "# create 5 point buckets for popularity \n",
        "spotify_df['bucket_popularity'] = spotify_df['popularity'].apply(lambda x: int(x/5))"
      ]
    },
    {
      "cell_type": "code",
      "execution_count": 34,
      "id": "c6b44ffa",
      "metadata": {
        "id": "c6b44ffa"
      },
      "outputs": [],
      "source": [
        "spotify_df['consolidates_genre_lists_upd'] = spotify_df['consolidates_genre_lists'].apply(lambda x: [re.sub(' ','_',i) for i in re.findall(r\"'([^']*)'\", x)])"
      ]
    },
    {
      "cell_type": "code",
      "execution_count": 35,
      "id": "c919a088",
      "metadata": {
        "colab": {
          "base_uri": "https://localhost:8080/",
          "height": 461
        },
        "id": "c919a088",
        "outputId": "5f2cfab5-0668-462d-9629-d01bbcfd8691"
      },
      "outputs": [
        {
          "data": {
            "text/html": [
              "<div>\n",
              "<style scoped>\n",
              "    .dataframe tbody tr th:only-of-type {\n",
              "        vertical-align: middle;\n",
              "    }\n",
              "\n",
              "    .dataframe tbody tr th {\n",
              "        vertical-align: top;\n",
              "    }\n",
              "\n",
              "    .dataframe thead th {\n",
              "        text-align: right;\n",
              "    }\n",
              "</style>\n",
              "<table border=\"1\" class=\"dataframe\">\n",
              "  <thead>\n",
              "    <tr style=\"text-align: right;\">\n",
              "      <th></th>\n",
              "      <th>Unnamed: 0.1</th>\n",
              "      <th>Unnamed: 0</th>\n",
              "      <th>valence</th>\n",
              "      <th>year</th>\n",
              "      <th>acousticness</th>\n",
              "      <th>artists</th>\n",
              "      <th>danceability</th>\n",
              "      <th>duration_ms</th>\n",
              "      <th>energy</th>\n",
              "      <th>explicit</th>\n",
              "      <th>id</th>\n",
              "      <th>instrumentalness</th>\n",
              "      <th>key</th>\n",
              "      <th>liveness</th>\n",
              "      <th>loudness</th>\n",
              "      <th>mode</th>\n",
              "      <th>name</th>\n",
              "      <th>popularity</th>\n",
              "      <th>release_date</th>\n",
              "      <th>speechiness</th>\n",
              "      <th>tempo</th>\n",
              "      <th>artists_upd_v1</th>\n",
              "      <th>artists_upd_v2</th>\n",
              "      <th>artists_upd</th>\n",
              "      <th>artists_song</th>\n",
              "      <th>consolidates_genre_lists</th>\n",
              "      <th>Mood</th>\n",
              "      <th>bucket_popularity</th>\n",
              "      <th>consolidates_genre_lists_upd</th>\n",
              "    </tr>\n",
              "  </thead>\n",
              "  <tbody>\n",
              "    <tr>\n",
              "      <th>0</th>\n",
              "      <td>0</td>\n",
              "      <td>0</td>\n",
              "      <td>0.177</td>\n",
              "      <td>1989</td>\n",
              "      <td>0.568</td>\n",
              "      <td>['조정현']</td>\n",
              "      <td>0.447</td>\n",
              "      <td>237688</td>\n",
              "      <td>0.2150</td>\n",
              "      <td>0</td>\n",
              "      <td>2ghebdwe2pNXT4eL34T7pW</td>\n",
              "      <td>0.000001</td>\n",
              "      <td>10</td>\n",
              "      <td>0.0649</td>\n",
              "      <td>-16.478</td>\n",
              "      <td>1</td>\n",
              "      <td>그아픔까지사랑한거야</td>\n",
              "      <td>31</td>\n",
              "      <td>1989-06-15</td>\n",
              "      <td>0.0272</td>\n",
              "      <td>71.979</td>\n",
              "      <td>['조정현']</td>\n",
              "      <td>[]</td>\n",
              "      <td>['조정현']</td>\n",
              "      <td>조정현그아픔까지사랑한거야</td>\n",
              "      <td>['classic_korean_pop']</td>\n",
              "      <td>Sad</td>\n",
              "      <td>6</td>\n",
              "      <td>[classic_korean_pop]</td>\n",
              "    </tr>\n",
              "    <tr>\n",
              "      <th>1</th>\n",
              "      <td>1</td>\n",
              "      <td>1</td>\n",
              "      <td>0.352</td>\n",
              "      <td>1992</td>\n",
              "      <td>0.381</td>\n",
              "      <td>['黑豹']</td>\n",
              "      <td>0.353</td>\n",
              "      <td>316160</td>\n",
              "      <td>0.6860</td>\n",
              "      <td>0</td>\n",
              "      <td>3KIuCzckjdeeVuswPo20mC</td>\n",
              "      <td>0.000000</td>\n",
              "      <td>11</td>\n",
              "      <td>0.0568</td>\n",
              "      <td>-9.103</td>\n",
              "      <td>1</td>\n",
              "      <td>DON'T BREAK MY HEART</td>\n",
              "      <td>35</td>\n",
              "      <td>1992-12-22</td>\n",
              "      <td>0.0395</td>\n",
              "      <td>200.341</td>\n",
              "      <td>['黑豹']</td>\n",
              "      <td>[]</td>\n",
              "      <td>['黑豹']</td>\n",
              "      <td>黑豹DON'T BREAK MY HEART</td>\n",
              "      <td>['chinese_indie', 'chinese_indie_rock']</td>\n",
              "      <td>Sad</td>\n",
              "      <td>7</td>\n",
              "      <td>[chinese_indie, chinese_indie_rock]</td>\n",
              "    </tr>\n",
              "    <tr>\n",
              "      <th>2</th>\n",
              "      <td>2</td>\n",
              "      <td>2</td>\n",
              "      <td>0.458</td>\n",
              "      <td>1963</td>\n",
              "      <td>0.987</td>\n",
              "      <td>['黃國隆']</td>\n",
              "      <td>0.241</td>\n",
              "      <td>193480</td>\n",
              "      <td>0.0437</td>\n",
              "      <td>0</td>\n",
              "      <td>4prhqrLXYMjHJ6vpRAlasx</td>\n",
              "      <td>0.000453</td>\n",
              "      <td>5</td>\n",
              "      <td>0.2650</td>\n",
              "      <td>-24.571</td>\n",
              "      <td>1</td>\n",
              "      <td>藝旦調</td>\n",
              "      <td>23</td>\n",
              "      <td>1963-05-28</td>\n",
              "      <td>0.0443</td>\n",
              "      <td>85.936</td>\n",
              "      <td>['黃國隆']</td>\n",
              "      <td>[]</td>\n",
              "      <td>['黃國隆']</td>\n",
              "      <td>黃國隆藝旦調</td>\n",
              "      <td>[]</td>\n",
              "      <td>Sad</td>\n",
              "      <td>4</td>\n",
              "      <td>[]</td>\n",
              "    </tr>\n",
              "    <tr>\n",
              "      <th>3</th>\n",
              "      <td>3</td>\n",
              "      <td>3</td>\n",
              "      <td>0.796</td>\n",
              "      <td>1963</td>\n",
              "      <td>0.852</td>\n",
              "      <td>['黃國隆', '王秋玉']</td>\n",
              "      <td>0.711</td>\n",
              "      <td>145720</td>\n",
              "      <td>0.1110</td>\n",
              "      <td>0</td>\n",
              "      <td>5xFXTvnEe03SyvFpo6pEaE</td>\n",
              "      <td>0.000000</td>\n",
              "      <td>2</td>\n",
              "      <td>0.0695</td>\n",
              "      <td>-20.741</td>\n",
              "      <td>0</td>\n",
              "      <td>草螟弄雞公</td>\n",
              "      <td>23</td>\n",
              "      <td>1963-05-28</td>\n",
              "      <td>0.0697</td>\n",
              "      <td>124.273</td>\n",
              "      <td>['黃國隆', '王秋玉']</td>\n",
              "      <td>[]</td>\n",
              "      <td>['黃國隆', '王秋玉']</td>\n",
              "      <td>黃國隆草螟弄雞公</td>\n",
              "      <td>[]</td>\n",
              "      <td>Sad</td>\n",
              "      <td>4</td>\n",
              "      <td>[]</td>\n",
              "    </tr>\n",
              "    <tr>\n",
              "      <th>4</th>\n",
              "      <td>4</td>\n",
              "      <td>4</td>\n",
              "      <td>0.704</td>\n",
              "      <td>1963</td>\n",
              "      <td>0.771</td>\n",
              "      <td>['黃國隆']</td>\n",
              "      <td>0.610</td>\n",
              "      <td>208760</td>\n",
              "      <td>0.1750</td>\n",
              "      <td>0</td>\n",
              "      <td>6Pqs2suXEqCGx7Lxg5dlrB</td>\n",
              "      <td>0.000000</td>\n",
              "      <td>7</td>\n",
              "      <td>0.0309</td>\n",
              "      <td>-20.232</td>\n",
              "      <td>1</td>\n",
              "      <td>思想起</td>\n",
              "      <td>23</td>\n",
              "      <td>1963-05-28</td>\n",
              "      <td>0.0419</td>\n",
              "      <td>124.662</td>\n",
              "      <td>['黃國隆']</td>\n",
              "      <td>[]</td>\n",
              "      <td>['黃國隆']</td>\n",
              "      <td>黃國隆思想起</td>\n",
              "      <td>[]</td>\n",
              "      <td>Sad</td>\n",
              "      <td>4</td>\n",
              "      <td>[]</td>\n",
              "    </tr>\n",
              "  </tbody>\n",
              "</table>\n",
              "</div>"
            ],
            "text/plain": [
              "   Unnamed: 0.1  Unnamed: 0  valence  year  acousticness         artists  \\\n",
              "0             0           0    0.177  1989         0.568         ['조정현']   \n",
              "1             1           1    0.352  1992         0.381          ['黑豹']   \n",
              "2             2           2    0.458  1963         0.987         ['黃國隆']   \n",
              "3             3           3    0.796  1963         0.852  ['黃國隆', '王秋玉']   \n",
              "4             4           4    0.704  1963         0.771         ['黃國隆']   \n",
              "\n",
              "   danceability  duration_ms  energy  explicit                      id  \\\n",
              "0         0.447       237688  0.2150         0  2ghebdwe2pNXT4eL34T7pW   \n",
              "1         0.353       316160  0.6860         0  3KIuCzckjdeeVuswPo20mC   \n",
              "2         0.241       193480  0.0437         0  4prhqrLXYMjHJ6vpRAlasx   \n",
              "3         0.711       145720  0.1110         0  5xFXTvnEe03SyvFpo6pEaE   \n",
              "4         0.610       208760  0.1750         0  6Pqs2suXEqCGx7Lxg5dlrB   \n",
              "\n",
              "   instrumentalness  key  liveness  loudness  mode                  name  \\\n",
              "0          0.000001   10    0.0649   -16.478     1            그아픔까지사랑한거야   \n",
              "1          0.000000   11    0.0568    -9.103     1  DON'T BREAK MY HEART   \n",
              "2          0.000453    5    0.2650   -24.571     1                   藝旦調   \n",
              "3          0.000000    2    0.0695   -20.741     0                 草螟弄雞公   \n",
              "4          0.000000    7    0.0309   -20.232     1                   思想起   \n",
              "\n",
              "   popularity release_date  speechiness    tempo  artists_upd_v1  \\\n",
              "0          31   1989-06-15       0.0272   71.979         ['조정현']   \n",
              "1          35   1992-12-22       0.0395  200.341          ['黑豹']   \n",
              "2          23   1963-05-28       0.0443   85.936         ['黃國隆']   \n",
              "3          23   1963-05-28       0.0697  124.273  ['黃國隆', '王秋玉']   \n",
              "4          23   1963-05-28       0.0419  124.662         ['黃國隆']   \n",
              "\n",
              "  artists_upd_v2     artists_upd            artists_song  \\\n",
              "0             []         ['조정현']           조정현그아픔까지사랑한거야   \n",
              "1             []          ['黑豹']  黑豹DON'T BREAK MY HEART   \n",
              "2             []         ['黃國隆']                  黃國隆藝旦調   \n",
              "3             []  ['黃國隆', '王秋玉']                黃國隆草螟弄雞公   \n",
              "4             []         ['黃國隆']                  黃國隆思想起   \n",
              "\n",
              "                  consolidates_genre_lists Mood  bucket_popularity  \\\n",
              "0                   ['classic_korean_pop']  Sad                  6   \n",
              "1  ['chinese_indie', 'chinese_indie_rock']  Sad                  7   \n",
              "2                                       []  Sad                  4   \n",
              "3                                       []  Sad                  4   \n",
              "4                                       []  Sad                  4   \n",
              "\n",
              "          consolidates_genre_lists_upd  \n",
              "0                 [classic_korean_pop]  \n",
              "1  [chinese_indie, chinese_indie_rock]  \n",
              "2                                   []  \n",
              "3                                   []  \n",
              "4                                   []  "
            ]
          },
          "execution_count": 35,
          "metadata": {},
          "output_type": "execute_result"
        }
      ],
      "source": [
        "spotify_df.head()"
      ]
    },
    {
      "cell_type": "code",
      "execution_count": 36,
      "id": "3d7340ff",
      "metadata": {
        "id": "3d7340ff"
      },
      "outputs": [],
      "source": [
        "#simple function to create OHE features\n",
        "#this gets passed later on\n",
        "def One_Hot_Encode_Prep(df, column, new_name): \n",
        "    \"\"\" \n",
        "    Create One Hot Encoded features of a specific column\n",
        "\n",
        "    Parameters: \n",
        "        df (pandas dataframe): Spotify Dataframe\n",
        "        column (str): Column to be processed\n",
        "        new_name (str): new column name to be used\n",
        "        \n",
        "    Returns: \n",
        "        tf_df: One hot encoded features \n",
        "    \"\"\"\n",
        "    \n",
        "    tf_df = pd.get_dummies(df[column])\n",
        "    feature_names = tf_df.columns\n",
        "    tf_df.columns = [new_name + \"|\" + str(i) for i in feature_names]\n",
        "    tf_df.reset_index(drop = True, inplace = True)    \n",
        "    return tf_df\n",
        "\n",
        "\n",
        "\n",
        "#function to build entire feature set\n",
        "def Feature_Set_Using_TDiDF(df, float_cols):\n",
        "    \"\"\" \n",
        "    Process spotify df to create a final set of features that will be used to generate recommendations\n",
        "\n",
        "    Parameters: \n",
        "        df (pandas dataframe): Spotify Dataframe\n",
        "        float_cols (list(str)): List of float columns that will be scaled \n",
        "        \n",
        "    Returns: \n",
        "        final: final set of features \n",
        "    \"\"\"\n",
        "    \n",
        "    #tfidf genre lists\n",
        "    tfidf = TfidfVectorizer()\n",
        "    tfidf_matrix =  tfidf.fit_transform(df['consolidates_genre_lists_upd'].apply(lambda x: \" \".join(x)))\n",
        "    genre_df = pd.DataFrame(tfidf_matrix.toarray())\n",
        "    genre_df.columns = ['genre' + \"|\" + i for i in tfidf.get_feature_names()]\n",
        "    genre_df.reset_index(drop = True, inplace=True)\n",
        "\n",
        "    #explicity_ohe = One_Hot_Encode_Prep(df, 'explicit','exp')    \n",
        "    year_ohe = One_Hot_Encode_Prep(df, 'year','year') * 0.5\n",
        "    popularity_ohe = One_Hot_Encode_Prep(df, 'bucket_popularity','pop') * 0.15\n",
        "\n",
        "    #scale float columns\n",
        "    floats = df[float_cols].reset_index(drop = True)\n",
        "    scaler = MinMaxScaler()\n",
        "    floats_scaled = pd.DataFrame(scaler.fit_transform(floats), columns = floats.columns) * 0.2\n",
        "\n",
        "    #concanenate all features\n",
        "    final = pd.concat([genre_df, floats_scaled, popularity_ohe, year_ohe], axis = 1)\n",
        "     \n",
        "    #add song id\n",
        "    final['id']=df['id'].values\n",
        "    \n",
        "    return final\n",
        "\n",
        "\n",
        "def Get_Spotify_Playlist_DataFrame(playlist_name,id_dic, df):\n",
        "    \"\"\" \n",
        "    Pull songs from a specific playlist.\n",
        "\n",
        "    Parameters: \n",
        "        playlist_name (str): name of the playlist you'd like to pull from the spotify API\n",
        "        id_dic (dic): dictionary that maps playlist_name to playlist_id\n",
        "        df (pandas dataframe): spotify datafram\n",
        "        \n",
        "    Returns: \n",
        "        playlist: all songs in the playlist THAT ARE AVAILABLE IN THE KAGGLE DATASET\n",
        "    \"\"\"\n",
        "    \n",
        "    #generate playlist dataframe\n",
        "    playlist = pd.DataFrame()\n",
        "    playlist_name = playlist_name\n",
        "    \n",
        "    #print(len(sp.playlist(id_dic[playlist_name])['tracks']['items']))\n",
        "\n",
        "    for ix, i in enumerate(sp.playlist(id_dic[playlist_name])['tracks']['items']):\n",
        "        #print(i['track']['artists'][0]['name'])\n",
        "        playlist.loc[ix, 'artist'] = i['track']['artists'][0]['name']\n",
        "        playlist.loc[ix, 'name'] = i['track']['name']\n",
        "        playlist.loc[ix, 'id'] = i['track']['id'] # ['uri'].split(':')[2]\n",
        "        playlist.loc[ix, 'url'] = i['track']['album']['images'][1]['url']\n",
        "        playlist.loc[ix, 'date_added'] = i['added_at']\n",
        "\n",
        "    playlist['date_added'] = pd.to_datetime(playlist['date_added'])  \n",
        "    \n",
        "    #playlist = playlist[playlist['id'].isin(df['id'].values)].sort_values('date_added',ascending = False)\n",
        "    \n",
        "    return playlist\n",
        "\n",
        "\n",
        "\n",
        "\n",
        "def visualize_songs(df):\n",
        "    \"\"\" \n",
        "    Visualize cover art of the songs in the inputted dataframe\n",
        "\n",
        "    Parameters: \n",
        "        df (pandas dataframe): Playlist Dataframe\n",
        "    \"\"\"\n",
        "    \n",
        "    temp = df['url'].values\n",
        "    plt.figure(figsize=(15,int(0.625 * len(temp))))\n",
        "    columns = 5\n",
        "    \n",
        "    for i, url in enumerate(temp):\n",
        "        plt.subplot(len(temp) / columns + 1, columns, i + 1)\n",
        "\n",
        "        image = io.imread(url)\n",
        "        plt.imshow(image)\n",
        "        plt.xticks(color = 'w', fontsize = 0.1)\n",
        "        plt.yticks(color = 'w', fontsize = 0.1)\n",
        "        plt.xlabel(df['name'].values[i], fontsize = 12)\n",
        "        plt.tight_layout(h_pad=0.4, w_pad=0)\n",
        "        plt.subplots_adjust(wspace=None, hspace=None)\n",
        "\n",
        "    plt.show()\n",
        "    \n",
        "    \n",
        "    \n",
        "\n",
        "\n",
        "\n",
        "\n",
        "\n",
        "\n",
        "\n"
      ]
    },
    {
      "cell_type": "code",
      "execution_count": 37,
      "id": "97110fb1",
      "metadata": {},
      "outputs": [],
      "source": [
        "def generate_playlist_feature(complete_feature_set, playlist_df, weight_factor):\n",
        "    \"\"\" \n",
        "    Summarize a user's playlist into a single vector\n",
        "\n",
        "    Parameters: \n",
        "        complete_feature_set (pandas data00frame): Dataframe which includes all of the features for the spotify songs\n",
        "        playlist_df (pandas dataframe): playlist dataframe\n",
        "        weight_factor (float): float value that represents the recency bias. The larger the recency bias, the most priority recent songs get. Value should be close to 1. \n",
        "        \n",
        "    Returns: \n",
        "        playlist_feature_set_weighted_final (pandas series): single feature that summarizes the playlist\n",
        "        playlist_features_not_in_dataframe (pandas dataframe): \n",
        "    \"\"\"\n",
        "    \n",
        "    playlist_features_in_dataframe = complete_feature_set[complete_feature_set['id'].isin(playlist_df['id'].values)]#.drop('id', axis = 1).mean(axis =0)\n",
        "    playlist_features_in_dataframe = playlist_features_in_dataframe.merge(playlist_df[['id','date_added']], on = 'id', how = 'inner')\n",
        "    playlist_features_not_in_dataframe = complete_feature_set[~complete_feature_set['id'].isin(playlist_df['id'].values)]#.drop('id', axis = 1)\n",
        "    \n",
        "    playlist_feature_set = playlist_featu00000000000r100000000000000000000000000es_in_dataframe.sort_values('date_added',ascending=False)\n",
        "\n",
        "    most_recent_date = playlist_feature_set.iloc[0,-1]\n",
        "    \n",
        "    for ix, row in playlist_feature_set.iterrows():\n",
        "        playlist_feature_set.loc[ix,'months_from_recent'] = int((most_recent_date.to_pydatetime() - row.iloc[-1].to_pydatetime()).days / 30)\n",
        "        \n",
        "    playlist_feature_set['weight'] = playlist_feature_set['months_from_recent'].apply(lambda x: weight_factor ** (-x))\n",
        "    \n",
        "    playlist_feature_set_weighted = playlist_feature_set.copy()\n",
        "    #print(playlist_feature_set_weighted.iloc[:,:-4].columns)\n",
        "    playlist_feature_set_weighted.update(playlist_feature_set_weighted.iloc[:,:-4].mul(playlist_feature_set_weighted.weight,0))\n",
        "    playlist_feature_set_weighted_final = playlist_feature_set_weighted.iloc[:, :-4]\n",
        "    #playlist_feature_set_weighted_final['id'] = playlist_feature_set['id']\n",
        "    \n",
        "    return playlist_feature_set_weighted_final.sum(axis = 0), playlist_features_not_in_dataframe\n"
      ]
    },
    {
      "cell_type": "code",
      "execution_count": 38,
      "id": "61495c5b",
      "metadata": {},
      "outputs": [],
      "source": [
        "def Recommend_Playlist(df, features, nonplaylist_features):\n",
        "    \"\"\" \n",
        "    Pull songs from a specific playlist.\n",
        "\n",
        "    Parameters: \n",
        "        df (pandas dataframe): spotify dataframe\n",
        "        features (pandas series): summarized playlist feature\n",
        "        nonplaylist_features (pandas dataframe): feature set of songs that are not in the selected playlist\n",
        "        \n",
        "    Returns: \n",
        "        non_playlist_df_top_40: Top 40 recommendations for that playlist\n",
        "    \"\"\"\n",
        "    \n",
        "    non_playlist_df = df[df['id'].isin(nonplaylist_features['id'].values)]\n",
        "    non_playlist_df['sim'] = cosine_similarity(nonplaylist_features.drop('id', axis = 1).values, features.values.reshape(1, -1))[:,0]\n",
        "    non_playlist_df_top_40 = non_playlist_df.sort_values('sim',ascending = False).head(40)\n",
        "    non_playlist_df_top_40['url'] = non_playlist_df_top_40['id'].apply(lambda x: sp.track(x)['album']['images'][1]['url'])\n",
        "    \n",
        "    return non_playlist_df_top_40\n"
      ]
    },
    {
      "cell_type": "code",
      "execution_count": 39,
      "id": "87adcfef",
      "metadata": {
        "id": "87adcfef"
      },
      "outputs": [],
      "source": [
        "scope = 'user-library-read'\n",
        "\n",
        "if len(sys.argv) > 1:\n",
        "    username = sys.argv[1]\n",
        "else:\n",
        "    print(\"Usage: %s username\" % (sys.argv[0],))\n",
        "    sys.exit()"
      ]
    },
    {
      "cell_type": "code",
      "execution_count": 40,
      "id": "6fe5b7ef",
      "metadata": {
        "id": "6fe5b7ef"
      },
      "outputs": [],
      "source": [
        "auth_manager = SpotifyClientCredentials(client_id='4294f53432b44cd6bcce7fbba9844ceb', client_secret='81cbe5eeff2a41d889ad554ce32d776c')\n",
        "sp = spotipy.Spotify(auth_manager=auth_manager)"
      ]
    },
    {
      "cell_type": "code",
      "execution_count": 41,
      "id": "b9b0a5b0",
      "metadata": {
        "colab": {
          "base_uri": "https://localhost:8080/",
          "height": 328
        },
        "id": "b9b0a5b0",
        "outputId": "a8dc1b40-248b-4eb1-b222-172e9f361c22"
      },
      "outputs": [],
      "source": [
        "token = util.prompt_for_user_token(scope, client_id='4294f53432b44cd6bcce7fbba9844ceb', client_secret='81cbe5eeff2a41d889ad554ce32d776c', redirect_uri='http://localhost:8888/callback')\n"
      ]
    },
    {
      "cell_type": "code",
      "execution_count": 42,
      "id": "56516751",
      "metadata": {
        "id": "56516751"
      },
      "outputs": [],
      "source": [
        "\n",
        "sp = spotipy.Spotify(auth=token)\n",
        "#sp = spotipy.Spotify(auth='http://localhost:8888/callback?code=AQBcTRYrG930W7YhaJylLtf9q-QQXNbV_rDsDfn3OGBx3zxHDxcLtt5PSpieFx3zbJagfc83PPL7jcQGi6BuF4LgNiy9UrTEaX9rCs7lHYKlRZeUOmI0ejvrN-C8e3yyeIAURsoHgCG7blzyxJr5XEboGq68sm4kw6okY3ikfZ7XWQ')"
      ]
    },
    {
      "cell_type": "code",
      "execution_count": 43,
      "id": "1595455b",
      "metadata": {
        "id": "1595455b"
      },
      "outputs": [],
      "source": [
        "#gather playlist names and images. \n",
        "#images aren't going to be used until I start building a UI\n",
        "id_name = {}\n",
        "list_photo = {}\n",
        "for i in sp.current_user_playlists()['items']:\n",
        "\n",
        "    id_name[i['name']] = i['uri'].split(':')[2]\n",
        "    list_photo[i['uri'].split(':')[2]] = i['images'][0]['url']"
      ]
    },
    {
      "cell_type": "code",
      "execution_count": 44,
      "id": "c92036bf",
      "metadata": {
        "id": "c92036bf",
        "outputId": "dce63c31-7d67-4f0a-fa99-58ff68727b44"
      },
      "outputs": [
        {
          "data": {
            "text/plain": [
              "{}"
            ]
          },
          "execution_count": 44,
          "metadata": {},
          "output_type": "execute_result"
        }
      ],
      "source": [
        "id_name"
      ]
    },
    {
      "cell_type": "code",
      "execution_count": 45,
      "id": "c60c0b09",
      "metadata": {
        "id": "c60c0b09"
      },
      "outputs": [],
      "source": [
        "def ChooseDataset(x):\n",
        "    if x == \"Disgust\":\n",
        "        return spotify_df[spotify_df['Mood'].isin(['Energetic', 'Happy', 'Calm'])]\n",
        "    if x == \"Angry\":\n",
        "        return spotify_df[spotify_df['Mood'].isin(['Energetic', 'Calm'])]\n",
        "    if x == \"Fear\":\n",
        "        return spotify_df[spotify_df['Mood'].isin(['Happy', 'Calm'])]\n",
        "    if x == \"Happy\":\n",
        "        return spotify_df[spotify_df['Mood'].isin(['Sad', 'Happy', 'Calm'])]\n",
        "    if x == \"Sad\":\n",
        "        return spotify_df[spotify_df['Mood'].isin(['Sad', 'Happy', 'Calm'])]\n",
        "    if x == \"Surprise\":\n",
        "        return spotify_df[spotify_df['Mood'].isin(['Energetic', 'Happy', 'Sad'])]\n",
        "    return spotify_df"
      ]
    },
    {
      "cell_type": "code",
      "execution_count": 46,
      "id": "c2dc800b",
      "metadata": {
        "id": "c2dc800b"
      },
      "outputs": [],
      "source": [
        "def Recommend_Top40(x):\n",
        "    \n",
        "    O_df = ChooseDataset(x)\n",
        "    \n",
        "    # Feature Engineering from main dataframe\n",
        "    complete_feature_set = Feature_Set_Using_TDiDF(O_df, float_cols=float_cols)#.mean(axis = 0)\n",
        "    \n",
        "    # collecting spotify user playlist dataframe\n",
        "    one_playlist_from_spotify = Get_Spotify_Playlist_DataFrame('EDM', id_name, O_df)\n",
        "    \n",
        "    # linear vector for recommendation\n",
        "    features_in_the_playlist, features_not_in_the_playlist = generate_playlist_feature(complete_feature_set, one_playlist_from_spotify, 1.09)\n",
        "    \n",
        "    \n",
        "    # Recommended Songs store here\n",
        "    top40_recommendation = Recommend_Playlist(spotify_df, features_in_the_playlist, features_not_in_the_playlist)\n",
        "    \n",
        "    \n",
        "    visualize_songs(top40_recommendation)\n",
        "    \n",
        "    \n",
        "    "
      ]
    },
    {
      "cell_type": "code",
      "execution_count": 47,
      "id": "e9964c8f",
      "metadata": {
        "id": "e9964c8f",
        "outputId": "331b7989-fe18-417f-b653-a67c27055c90"
      },
      "outputs": [],
      "source": [
        "from tensorflow.keras.models import load_model\n",
        "\n",
        "model = load_model('model\\cnn_model.h5', compile = True)"
      ]
    },
    {
      "cell_type": "code",
      "execution_count": 48,
      "id": "8265c847",
      "metadata": {
        "id": "8265c847"
      },
      "outputs": [],
      "source": [
        "def moodNamePrintFromLabel(n):\n",
        "    if n == 0: result = \"Angry\"\n",
        "    elif n == 1: result = \"Disgust\"\n",
        "    elif n == 2: result = \"Fear\"\n",
        "    elif n == 3: result = \"Happy\"\n",
        "    elif n == 4: result = \"Sad\"\n",
        "    elif n == 5: result = \"Surprise\"\n",
        "    elif n == 6: result = \"Neutral\"\n",
        "        \n",
        "    return result\n",
        "\n",
        "def imageToMoodDetection(img_path):\n",
        "  face_casecade = cv2.CascadeClassifier('face_casecade.xml')\n",
        "  img = cv2.imread(img_path)\n",
        "\n",
        "  Gray_img = cv2.cvtColor(img, cv2.COLOR_BGR2GRAY)\n",
        "\n",
        "  faces = face_casecade.detectMultiScale(Gray_img, 1.3, 3)\n",
        "\n",
        "  for (x,y,w,h) in faces:\n",
        "    pxl_lst = []\n",
        "    for i in range(y, y+h):\n",
        "      lst = []\n",
        "      for j in range(x, x+w):\n",
        "        lst.append(Gray_img[i][j])\n",
        "      pxl_lst.append(lst)\n",
        "    single_face = np.array(pxl_lst)\n",
        "    single_face = np.reshape(single_face,(h,w,))\n",
        "\n",
        "    resized_img = cv2.resize(single_face, (48,48), interpolation = cv2.INTER_AREA)\n",
        "    \n",
        "    resized_img = np.reshape(resized_img,(1,48,48,1))/255.0\n",
        "\n",
        "    #passing to model\n",
        "    result = np.argmax(model.predict(resized_img), axis=-1)\n",
        "    if result is not None:\n",
        "      print(moodNamePrintFromLabel(result))"
      ]
    },
    {
      "cell_type": "code",
      "execution_count": 49,
      "id": "14923d37",
      "metadata": {
        "id": "14923d37"
      },
      "outputs": [],
      "source": [
        "Image_path = 'Image\\\\test3.jpg'"
      ]
    },
    {
      "cell_type": "markdown",
      "id": "ca4874d4",
      "metadata": {
        "id": "ca4874d4"
      },
      "source": [
        "# Recommended songs for 'EDM' Playlist for Neutral Mood"
      ]
    },
    {
      "cell_type": "code",
      "execution_count": 50,
      "id": "b9097067",
      "metadata": {
        "id": "b9097067",
        "outputId": "95883585-ecbf-4d41-ef8e-35d12412dca0",
        "scrolled": true
      },
      "outputs": [
        {
          "name": "stdout",
          "output_type": "stream",
          "text": [
            "Happy\n"
          ]
        },
        {
          "ename": "KeyError",
          "evalue": "'EDM'",
          "output_type": "error",
          "traceback": [
            "\u001b[1;31m---------------------------------------------------------------------------\u001b[0m",
            "\u001b[1;31mKeyError\u001b[0m                                  Traceback (most recent call last)",
            "\u001b[1;32mc:\\Users\\shrey\\OneDrive\\Desktop\\project\\Music_Recommender.ipynb Cell 27'\u001b[0m in \u001b[0;36m<cell line: 1>\u001b[1;34m()\u001b[0m\n\u001b[1;32m----> <a href='vscode-notebook-cell:/c%3A/Users/shrey/OneDrive/Desktop/project/Music_Recommender.ipynb#ch0000024?line=0'>1</a>\u001b[0m Recommend_Top40(imageToMoodDetection(Image_path))\n",
            "\u001b[1;32mc:\\Users\\shrey\\OneDrive\\Desktop\\project\\Music_Recommender.ipynb Cell 22'\u001b[0m in \u001b[0;36mRecommend_Top40\u001b[1;34m(x)\u001b[0m\n\u001b[0;32m      <a href='vscode-notebook-cell:/c%3A/Users/shrey/OneDrive/Desktop/project/Music_Recommender.ipynb#ch0000019?line=5'>6</a>\u001b[0m complete_feature_set \u001b[39m=\u001b[39m Feature_Set_Using_TDiDF(O_df, float_cols\u001b[39m=\u001b[39mfloat_cols)\u001b[39m#.mean(axis = 0)\u001b[39;00m\n\u001b[0;32m      <a href='vscode-notebook-cell:/c%3A/Users/shrey/OneDrive/Desktop/project/Music_Recommender.ipynb#ch0000019?line=7'>8</a>\u001b[0m \u001b[39m# collecting spotify user playlist dataframe\u001b[39;00m\n\u001b[1;32m----> <a href='vscode-notebook-cell:/c%3A/Users/shrey/OneDrive/Desktop/project/Music_Recommender.ipynb#ch0000019?line=8'>9</a>\u001b[0m one_playlist_from_spotify \u001b[39m=\u001b[39m Get_Spotify_Playlist_DataFrame(\u001b[39m'\u001b[39;49m\u001b[39mEDM\u001b[39;49m\u001b[39m'\u001b[39;49m, id_name, O_df)\n\u001b[0;32m     <a href='vscode-notebook-cell:/c%3A/Users/shrey/OneDrive/Desktop/project/Music_Recommender.ipynb#ch0000019?line=10'>11</a>\u001b[0m \u001b[39m# linear vector for recommendation\u001b[39;00m\n\u001b[0;32m     <a href='vscode-notebook-cell:/c%3A/Users/shrey/OneDrive/Desktop/project/Music_Recommender.ipynb#ch0000019?line=11'>12</a>\u001b[0m features_in_the_playlist, features_not_in_the_playlist \u001b[39m=\u001b[39m generate_playlist_feature(complete_feature_set, one_playlist_from_spotify, \u001b[39m1.09\u001b[39m)\n",
            "\u001b[1;32mc:\\Users\\shrey\\OneDrive\\Desktop\\project\\Music_Recommender.ipynb Cell 12'\u001b[0m in \u001b[0;36mGet_Spotify_Playlist_DataFrame\u001b[1;34m(playlist_name, id_dic, df)\u001b[0m\n\u001b[0;32m     <a href='vscode-notebook-cell:/c%3A/Users/shrey/OneDrive/Desktop/project/Music_Recommender.ipynb#ch0000011?line=76'>77</a>\u001b[0m playlist_name \u001b[39m=\u001b[39m playlist_name\n\u001b[0;32m     <a href='vscode-notebook-cell:/c%3A/Users/shrey/OneDrive/Desktop/project/Music_Recommender.ipynb#ch0000011?line=78'>79</a>\u001b[0m \u001b[39m#print(len(sp.playlist(id_dic[playlist_name])['tracks']['items']))\u001b[39;00m\n\u001b[1;32m---> <a href='vscode-notebook-cell:/c%3A/Users/shrey/OneDrive/Desktop/project/Music_Recommender.ipynb#ch0000011?line=80'>81</a>\u001b[0m \u001b[39mfor\u001b[39;00m ix, i \u001b[39min\u001b[39;00m \u001b[39menumerate\u001b[39m(sp\u001b[39m.\u001b[39mplaylist(id_dic[playlist_name])[\u001b[39m'\u001b[39m\u001b[39mtracks\u001b[39m\u001b[39m'\u001b[39m][\u001b[39m'\u001b[39m\u001b[39mitems\u001b[39m\u001b[39m'\u001b[39m]):\n\u001b[0;32m     <a href='vscode-notebook-cell:/c%3A/Users/shrey/OneDrive/Desktop/project/Music_Recommender.ipynb#ch0000011?line=81'>82</a>\u001b[0m     \u001b[39m#print(i['track']['artists'][0]['name'])\u001b[39;00m\n\u001b[0;32m     <a href='vscode-notebook-cell:/c%3A/Users/shrey/OneDrive/Desktop/project/Music_Recommender.ipynb#ch0000011?line=82'>83</a>\u001b[0m     playlist\u001b[39m.\u001b[39mloc[ix, \u001b[39m'\u001b[39m\u001b[39martist\u001b[39m\u001b[39m'\u001b[39m] \u001b[39m=\u001b[39m i[\u001b[39m'\u001b[39m\u001b[39mtrack\u001b[39m\u001b[39m'\u001b[39m][\u001b[39m'\u001b[39m\u001b[39martists\u001b[39m\u001b[39m'\u001b[39m][\u001b[39m0\u001b[39m][\u001b[39m'\u001b[39m\u001b[39mname\u001b[39m\u001b[39m'\u001b[39m]\n\u001b[0;32m     <a href='vscode-notebook-cell:/c%3A/Users/shrey/OneDrive/Desktop/project/Music_Recommender.ipynb#ch0000011?line=83'>84</a>\u001b[0m     playlist\u001b[39m.\u001b[39mloc[ix, \u001b[39m'\u001b[39m\u001b[39mname\u001b[39m\u001b[39m'\u001b[39m] \u001b[39m=\u001b[39m i[\u001b[39m'\u001b[39m\u001b[39mtrack\u001b[39m\u001b[39m'\u001b[39m][\u001b[39m'\u001b[39m\u001b[39mname\u001b[39m\u001b[39m'\u001b[39m]\n",
            "\u001b[1;31mKeyError\u001b[0m: 'EDM'"
          ]
        }
      ],
      "source": [
        "Recommend_Top40(imageToMoodDetection(Image_path))"
      ]
    },
    {
      "cell_type": "code",
      "execution_count": null,
      "id": "6687f004",
      "metadata": {},
      "outputs": [],
      "source": []
    }
  ],
  "metadata": {
    "accelerator": "GPU",
    "colab": {
      "name": "Music_Recommender.ipynb",
      "provenance": []
    },
    "kernelspec": {
      "display_name": "Python 3",
      "language": "python",
      "name": "python3"
    },
    "language_info": {
      "codemirror_mode": {
        "name": "ipython",
        "version": 3
      },
      "file_extension": ".py",
      "mimetype": "text/x-python",
      "name": "python",
      "nbconvert_exporter": "python",
      "pygments_lexer": "ipython3",
      "version": "3.10.2"
    }
  },
  "nbformat": 4,
  "nbformat_minor": 5
}
